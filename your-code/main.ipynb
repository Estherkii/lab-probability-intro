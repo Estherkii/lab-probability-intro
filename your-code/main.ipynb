{
 "cells": [
  {
   "cell_type": "markdown",
   "metadata": {},
   "source": [
    "# Probability"
   ]
  },
  {
   "cell_type": "markdown",
   "metadata": {},
   "source": [
    "## Challenge 1\n",
    "There is a box with 10 white balls, 12 red balls and 8 black balls. Calculate the probability of:\n",
    "* Taking a white ball out.\n",
    "* Taking a white ball on first extraction and a black ball out on second extraction without replacing the first one.\n",
    "* Taking a white ball on first extraction and a black ball out on second extraction replacing the first one.\n",
    "* Taking 3 balls and them being all different colours."
   ]
  },
  {
   "cell_type": "code",
   "execution_count": null,
   "metadata": {},
   "outputs": [],
   "source": [
    "\"\"\"\n",
    "30 balls in total\n",
    "\n",
    "* P(white ball) = 10/30\n",
    "\n",
    "* P(black ball) = 10/30 * 8/29 = 1/3 * 8/29 = 8/87\n",
    "\n",
    "* P(black ball) = 10/30 * 8/30 = 1/3 * 8/30 = 8/90\n",
    "\n",
    "* We have 6 combinations: WRB, RWB, BWR, BRW, RBW, WBR \n",
    "\n",
    "P(three_colors_ball) = \n",
    "\n",
    "10(white)/30 * 12/29 * 8/28 = 960/24360\n",
    "12(red)/30 * 10/29 * 8/28 = 960/24360\n",
    "8(black)/30 * 12/29 * 10/28 = 960/24360\n",
    "\n",
    "Final Answer = (960*6)/2460 = 5760/2460\n",
    "\n",
    "Combination(30, 3) = 30! / (3!(30 - 3)!) = 30! / (3! * 27!)\n",
    "\n",
    "\n",
    "\"\"\"\n"
   ]
  },
  {
   "cell_type": "code",
   "execution_count": 4,
   "metadata": {},
   "outputs": [
    {
     "name": "stdout",
     "output_type": "stream",
     "text": [
      "The probability is 0.23645320197044334\n"
     ]
    }
   ],
   "source": [
    "import math\n",
    "\n",
    "white_balls = 10\n",
    "red_balls = 12\n",
    "black_balls = 8\n",
    "\n",
    "total_balls = white_balls + red_balls + black_balls\n",
    "combinations_total = math.comb(total_balls, 3)\n",
    "\n",
    "combinations_white = math.comb(white_balls, 1)\n",
    "combinations_red = math.comb(red_balls, 1)\n",
    "combinations_black = math.comb(black_balls, 1)\n",
    "\n",
    "probability = (combinations_white * combinations_red * combinations_black) / combinations_total\n",
    "\n",
    "print(\"The probability is\", probability)"
   ]
  },
  {
   "cell_type": "markdown",
   "metadata": {},
   "source": [
    "## Challenge 2\n",
    "\n",
    "You want to go on picnic on Saturday. You hate rain, and would know to plan your weekend. To help you make a decision, you gather the following data about rainy days:\n",
    "\n",
    "* 40% of all days are cloudy.\n",
    "* About 50% of cloudy days are rainy. \n",
    "* About 20% of non-cloudy days are rainy.\n",
    "\n",
    "What is the chance of rain during next Saturday?"
   ]
  },
  {
   "cell_type": "code",
   "execution_count": 6,
   "metadata": {},
   "outputs": [
    {
     "data": {
      "text/plain": [
       "'\\nP cloudy: 40% (0.40)\\nP not cloudy: 1 - 0.40 = 0.60 \\nP rainy: 50% (0.50)\\nP non-cloudy is rainy: 20% (0.20)\\n\\nP(rain on Saturday) = (P(rainy) * P(cloudy)) + (P(non-cloudy is rainy) * P(not cloudy))\\n\\n    -- P(rain on Saturday) = (0.50 * 0.40) + (0.20 * 0.60)\\n\\n    -- P(rain on Saturday) = (0.20) + (0.12)\\n\\n    -- P(rain on Saturday) = 0.32\\n\\n32% chance of rain \\n\\n'"
      ]
     },
     "execution_count": 6,
     "metadata": {},
     "output_type": "execute_result"
    }
   ],
   "source": [
    "\"\"\"\n",
    "P cloudy: 40% (0.40)\n",
    "P not cloudy: 1 - 0.40 = 0.60 \n",
    "P rainy: 50% (0.50)\n",
    "P non-cloudy is rainy: 20% (0.20)\n",
    "\n",
    "P(rain on Saturday) = (P(rainy) * P(cloudy)) + (P(non-cloudy is rainy) * P(not cloudy))\n",
    "\n",
    "    -- P(rain on Saturday) = (0.50 * 0.40) + (0.20 * 0.60)\n",
    "\n",
    "    -- P(rain on Saturday) = (0.20) + (0.12)\n",
    "\n",
    "    -- P(rain on Saturday) = 0.32\n",
    "\n",
    "32% chance of rain \n",
    "\n",
    "\"\"\""
   ]
  },
  {
   "cell_type": "markdown",
   "metadata": {},
   "source": [
    "## Challenge 3\n",
    "\n",
    "A and B are events of a probability such that $P(A) = 0.3$, $P(B) = 0.6$ and $P(A \\cap B) = 0.1$\n",
    "\n",
    "Which of the following statements are true?  \n",
    "**HINT: draw a big Venn Diagram by your side**  \n",
    "* $P(\\overline{A}) = 0.7$\n",
    "* $P(A \\cup B) = 0.6$\n",
    "* $P(A \\cap \\overline{B}) = 0.2$\n",
    "* $P(A \\cup \\overline{A}) = 1$  \n",
    "* $P(A \\cap (B \\cup \\overline{B})) = 0.4$\n",
    "* $P(\\overline{A} \\cap \\overline{B}) = 0.3$\n",
    "* $P(\\overline{A \\cap B}) = 0.9$"
   ]
  },
  {
   "cell_type": "code",
   "execution_count": null,
   "metadata": {},
   "outputs": [],
   "source": [
    "\"\"\"\n",
    "* 𝑃(𝐴⎯)=0.7 \n",
    "    1 - 0,3 = 0.7 TRUE\n",
    "    \n",
    "* P(𝐴∪𝐵)=0.6 \n",
    "    0.3 + 0.6 - 0.1 = 0.8 FALSE\n",
    "\n",
    "* 𝑃(𝐴∩𝐵⎯)=0.2\n",
    "    0,3(A) + 0.6(B)- 0.1(interesection) - 0.6(B) = 0,2 TRUE\n",
    "    \n",
    "* 𝑃(𝐴∪𝐴⎯)=1 TRUE\n",
    "  - The union of A and its complement (𝐴∪𝐴̅) represents the entire sample space, and the probability of the sample space is always 1. So, this statement is true.\n",
    "\n",
    "* 𝑃(𝐴∩(𝐵∪𝐵⎯))=0.4 \n",
    "    - intersection of A plus B (all) = 0.3 FALSE\n",
    "\n",
    "*𝑃(𝐴⎯∩𝐵⎯)=0.3 - FALSE\n",
    "\n",
    "*𝑃(𝐴∩𝐵⎯⎯⎯⎯⎯⎯⎯⎯⎯⎯⎯⎯⎯⎯⎯)=0.9 TRUE\n",
    "\n",
    "1 - 0,1(intersection) = 0.9\n",
    "\n",
    "\"\"\""
   ]
  },
  {
   "cell_type": "markdown",
   "metadata": {},
   "source": [
    "## Challenge 4\n",
    "\n",
    " * If someone flies to China, the probability of getting Covid is 1%  \n",
    " * If someone flies to Italy, the probability of getting Covid is 20%  \n",
    "\n",
    "I roll 1 dice with numbers 1, 2, 3, 4, 5, 6:  \n",
    " * If 1: I fly to Italy\n",
    " * If not 1: I fly to China\n",
    "\n",
    "During my trip, I got Covid. What is the probability that I flew to China?"
   ]
  },
  {
   "cell_type": "code",
   "execution_count": 8,
   "metadata": {},
   "outputs": [
    {
     "data": {
      "text/plain": [
       "0.2"
      ]
     },
     "execution_count": 8,
     "metadata": {},
     "output_type": "execute_result"
    }
   ],
   "source": [
    "\"\"\"\n",
    "\n",
    "P(covid) = 0.01 * (5/6) + 0.2 * (1/6) = 0.25/6\n",
    "\n",
    "P(A|B) = (P(B|A) * P(A) / P(B))\n",
    "P(china|covid)  = (P(covid|china) * P(china) / P(covid)\n",
    "\n",
    "\n",
    "\"\"\"\n",
    "P_china_given_covid =  (0.01 * (5/6)) / (0.25/6) \n",
    "P_china_given_covid\n"
   ]
  },
  {
   "cell_type": "markdown",
   "metadata": {},
   "source": [
    "## BONUS\n",
    "\n",
    "You roll 2 dice. What is the probability that the sum of the numbers is 7? And 8? And 9? Then simulate 10000 times and draw a countplot."
   ]
  },
  {
   "cell_type": "markdown",
   "metadata": {},
   "source": [
    "your explanation here"
   ]
  },
  {
   "cell_type": "code",
   "execution_count": 1,
   "metadata": {},
   "outputs": [
    {
     "data": {
      "text/plain": [
       "{7: 1746, 8: 1386, 9: 1141}"
      ]
     },
     "execution_count": 1,
     "metadata": {},
     "output_type": "execute_result"
    }
   ],
   "source": [
    "import random\n",
    "import seaborn as sns\n",
    "import matplotlib.pyplot as plt\n",
    "\n",
    "n_simulations = 10000\n",
    "results = []\n",
    "\n",
    "for i in range(n_simulations):\n",
    "    die1 = random.randint(1, 6)\n",
    "    die2 = random.randint(1, 6)\n",
    "    total = die1 + die2\n",
    "    results.append(total)\n",
    "\n",
    "sum_count = {7: 0, 8: 0, 9: 0}\n",
    "\n",
    "for total in results:\n",
    "    if total in sum_count:\n",
    "        sum_count[total] += 1\n",
    "        \n",
    "sum_count"
   ]
  },
  {
   "cell_type": "code",
   "execution_count": 2,
   "metadata": {},
   "outputs": [
    {
     "name": "stdout",
     "output_type": "stream",
     "text": [
      "Sum 7: 1746 times\n",
      "Sum 8: 1386 times\n",
      "Sum 9: 1141 times\n"
     ]
    }
   ],
   "source": [
    "for total, count in sum_count.items():\n",
    "    print(f\"Sum {total}: {count} times\")"
   ]
  },
  {
   "cell_type": "code",
   "execution_count": 3,
   "metadata": {},
   "outputs": [
    {
     "data": {
      "text/plain": [
       "'\\nThis code print the frequencies of getting the sums 7, 8, and 9 along \\nwith the number of times each sum occurred in the 10,000 simulations\\n\\n'"
      ]
     },
     "execution_count": 3,
     "metadata": {},
     "output_type": "execute_result"
    }
   ],
   "source": [
    "\"\"\"\n",
    "This code print the frequencies of getting the sums 7, 8, and 9 along \n",
    "with the number of times each sum occurred in the 10,000 simulations\n",
    "\n",
    "\"\"\""
   ]
  },
  {
   "cell_type": "code",
   "execution_count": 5,
   "metadata": {},
   "outputs": [
    {
     "data": {
      "image/png": "[encoded data removed]",
      "text/plain": [
       "<Figure size 640x480 with 1 Axes>"
      ]
     },
     "metadata": {},
     "output_type": "display_data"
    }
   ],
   "source": [
    "sns.set(style=\"whitegrid\")\n",
    "sns.countplot(x=results, palette=\"Set3\")\n",
    "plt.title(\"Frequencies of Sum of Two Dice Rolls - 10.000 Simulations\")\n",
    "plt.xlabel(\"Sum of Two Dice\")\n",
    "plt.ylabel(\"Count\")\n",
    "\n",
    "plt.show()"
   ]
  }
 ],
 "metadata": {
  "kernelspec": {
   "display_name": "Python 3 (ipykernel)",
   "language": "python",
   "name": "python3"
  },
  "language_info": {
   "codemirror_mode": {
    "name": "ipython",
    "version": 3
   },
   "file_extension": ".py",
   "mimetype": "text/x-python",
   "name": "python",
   "nbconvert_exporter": "python",
   "pygments_lexer": "ipython3",
   "version": "3.10.9"
  },
  "toc": {
   "base_numbering": 1,
   "nav_menu": {},
   "number_sections": false,
   "sideBar": true,
   "skip_h1_title": false,
   "title_cell": "Table of Contents",
   "title_sidebar": "Contents",
   "toc_cell": false,
   "toc_position": {
    "height": "calc(100% - 180px)",
    "left": "10px",
    "top": "150px",
    "width": "296.475px"
   },
   "toc_section_display": true,
   "toc_window_display": false
  },
  "varInspector": {
   "cols": {
    "lenName": 16,
    "lenType": 16,
    "lenVar": 40
   },
   "kernels_config": {
    "python": {
     "delete_cmd_postfix": "",
     "delete_cmd_prefix": "del ",
     "library": "var_list.py",
     "varRefreshCmd": "print(var_dic_list())"
    },
    "r": {
     "delete_cmd_postfix": ") ",
     "delete_cmd_prefix": "rm(",
     "library": "var_list.r",
     "varRefreshCmd": "cat(var_dic_list()) "
    }
   },
   "types_to_exclude": [
    "module",
    "function",
    "builtin_function_or_method",
    "instance",
    "_Feature"
   ],
   "window_display": false
  }
 },
 "nbformat": 4,
 "nbformat_minor": 2
}
